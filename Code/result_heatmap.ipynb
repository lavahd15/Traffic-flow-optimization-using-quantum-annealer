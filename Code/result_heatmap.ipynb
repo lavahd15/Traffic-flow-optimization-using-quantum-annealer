{
 "cells": [
  {
   "cell_type": "code",
   "execution_count": 1,
   "metadata": {},
   "outputs": [],
   "source": [
    "import numpy as np\n",
    "import matplotlib.pyplot as plt\n",
    "import matplotlib.cm as cm"
   ]
  },
  {
   "cell_type": "code",
   "execution_count": 2,
   "metadata": {},
   "outputs": [
    {
     "data": {
      "image/png": "[encoded data removed]",
      "text/plain": [
       "<Figure size 432x288 with 1 Axes>"
      ]
     },
     "metadata": {},
     "output_type": "display_data"
    }
   ],
   "source": [
    "# Cars on routes before optimization\n",
    "cars_on_route_before_optimization = np.array([[100, 100, 100, 1, 1],\n",
    "                    [1, 200, 100, 200, 1],\n",
    "                    [1, 1, 100, 100, 100],\n",
    "                    [1, 200, 1, 200,100],\n",
    "                    [1, 1, 1, 1, 100]])\n",
    "\n",
    "\n",
    "fig, ax = plt.subplots()\n",
    "im = ax.imshow(cars_on_route_before_optimization, cmap=cm.Blues_r)\n",
    "\n",
    "\n",
    "plt.tick_params(\n",
    "    axis='x',      # changes apply to the x-axis\n",
    "    which='both',      # both major and minor ticks are affected\n",
    "    bottom=False,      # ticks along the bottom edge are off\n",
    "    top=False,         # ticks along the top edge are off\n",
    "    labelbottom=False)\n",
    "\n",
    "ax.yaxis.set_major_locator(plt.NullLocator())\n",
    "ax.xaxis.set_major_formatter(plt.NullFormatter())\n",
    "\n",
    "\n",
    "# Loop over data dimensions and create text annotations.\n",
    "for i in range(5):\n",
    "    for j in range(5):\n",
    "        text = ax.text(j, i, cars_on_route_before_optimization[i, j],\n",
    "                       ha=\"center\", va=\"center\", color=\"w\", rotation=45)\n",
    "\n",
    "plt.savefig('heatmap_1.png')"
   ]
  },
  {
   "cell_type": "code",
   "execution_count": 3,
   "metadata": {},
   "outputs": [
    {
     "data": {
      "image/png": "[encoded data removed]",
      "text/plain": [
       "<Figure size 432x288 with 1 Axes>"
      ]
     },
     "metadata": {},
     "output_type": "display_data"
    }
   ],
   "source": [
    "# Cars on routes after optimization\n",
    "cars_on_route_after_optimization = np.array([[100, 47, 47, 24, 24],\n",
    "                    [53, 0, 23, 0, 24],\n",
    "                    [53, 33, 56, 23, 47],\n",
    "                    [20, 0, 33, 0,47],\n",
    "                    [20, 20, 53, 53, 100]])\n",
    "\n",
    "\n",
    "fig, ax = plt.subplots()\n",
    "im = ax.imshow(cars_on_route_after_optimization, cmap=cm.Blues)\n",
    "\n",
    "plt.tick_params(\n",
    "    axis='x',      # changes apply to the x-axis\n",
    "    which='both',      # both major and minor ticks are affected\n",
    "    bottom=False,      # ticks along the bottom edge are off\n",
    "    top=False,         # ticks along the top edge are off\n",
    "    labelbottom=False)\n",
    "\n",
    "ax.yaxis.set_major_locator(plt.NullLocator())\n",
    "ax.xaxis.set_major_formatter(plt.NullFormatter())\n",
    "\n",
    "# Loop over data dimensions and create text annotations.\n",
    "for i in range(5):\n",
    "    for j in range(5):\n",
    "        text = ax.text(j, i, cars_on_route_after_optimization[i, j],\n",
    "                       ha=\"center\", va=\"center\", color=\"w\", rotation=45)\n",
    "\n",
    "plt.savefig('heatmap_2.png')"
   ]
  },
  {
   "cell_type": "code",
   "execution_count": null,
   "metadata": {},
   "outputs": [],
   "source": []
  }
 ],
 "metadata": {
  "kernelspec": {
   "display_name": "Python 3",
   "language": "python",
   "name": "python3"
  },
  "language_info": {
   "codemirror_mode": {
    "name": "ipython",
    "version": 3
   },
   "file_extension": ".py",
   "mimetype": "text/x-python",
   "name": "python",
   "nbconvert_exporter": "python",
   "pygments_lexer": "ipython3",
   "version": "3.7.4"
  }
 },
 "nbformat": 4,
 "nbformat_minor": 2
}
