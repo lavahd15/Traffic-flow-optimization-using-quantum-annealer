{
 "cells": [
  {
   "cell_type": "markdown",
   "metadata": {},
   "source": [
    "Team:<br />\n",
    "&nbsp;&nbsp;&nbsp;-Aarsh Oza<br />\n",
    "&nbsp;&nbsp;&nbsp;-Dhaval Patel"
   ]
  },
  {
   "cell_type": "markdown",
   "metadata": {},
   "source": [
    "Only run for 4 number of cars else it will runout of qubit to model the problem."
   ]
  },
  {
   "cell_type": "markdown",
   "metadata": {},
   "source": [
    "If you want to try more number of cars try the other python file named 'qbsolve'."
   ]
  },
  {
   "cell_type": "code",
   "execution_count": 1,
   "metadata": {},
   "outputs": [],
   "source": [
    "# Importing necessary Libraries\n",
    "import dimod\n",
    "from dwave.system.samplers import DWaveSampler"
   ]
  },
  {
   "cell_type": "code",
   "execution_count": 2,
   "metadata": {},
   "outputs": [],
   "source": [
    "# Defining Routes only for reference\n",
    "\n",
    "routes = [[\"s0\",\"s1\",\"s4\",\"s9\"],\n",
    "          [\"s0\",\"s3\",\"s6\",\"s9\"],\n",
    "          [\"s2\",\"s5\",\"s8\",\"s11\"],\n",
    "          [\"s2\",\"s7\",\"s10\",\"s11\"]]\n",
    "\n",
    "# Defining number of cars\n",
    "number_of_cars = 4\n",
    "k = number_of_cars"
   ]
  },
  {
   "cell_type": "code",
   "execution_count": 3,
   "metadata": {},
   "outputs": [],
   "source": [
    "# Creating Dictionary of Linear Biases (the diagonal terms of Q matrix)\n",
    "linear = {}\n",
    "for i in range(1, (4 * number_of_cars) + 1 ):\n",
    "    if i%4 == 1:\n",
    "        linear[i] = 0 - k\n",
    "    else:\n",
    "        linear[i] = 0 - k"
   ]
  },
  {
   "cell_type": "code",
   "execution_count": 4,
   "metadata": {},
   "outputs": [],
   "source": [
    "# Creating Dictionary of Quadratic Biases (the off diagonal terms of Q matrix)\n",
    "quadratic = {}\n",
    "for i in range(1, (4 * number_of_cars) + 1 ):\n",
    "    for j in range(i, (4 * number_of_cars) + 1 ):\n",
    "        if i == j:\n",
    "            pass\n",
    "        else:\n",
    "            if (j == i+1 or j == i+2 or j == i+3) and i % 4 == 1:\n",
    "                quadratic[(i, j)] = 2*k\n",
    "            elif (j == i+1 or j == i+2) and i % 4 == 2:\n",
    "                quadratic[(i, j)] = 2*k\n",
    "            elif (j == i+1) and i % 4 == 3:\n",
    "                quadratic[(i, j)] = 2*k\n",
    "            elif j % 4 == 1 and i % 4 == 1:\n",
    "                quadratic[(i, j)] = 2"
   ]
  },
  {
   "cell_type": "code",
   "execution_count": 5,
   "metadata": {},
   "outputs": [],
   "source": [
    "offset= 0.0\n",
    "vartype= dimod.BINARY"
   ]
  },
  {
   "cell_type": "code",
   "execution_count": 6,
   "metadata": {},
   "outputs": [
    {
     "name": "stdout",
     "output_type": "stream",
     "text": [
      "Using ExactSolver()\n",
      "lowest energy sample Using ExactSolver():  Sample(sample={1: 0, 2: 0, 3: 0, 4: 1, 5: 0, 6: 1, 7: 0, 8: 0, 9: 0, 10: 0, 11: 1, 12: 0, 13: 1, 14: 0, 15: 0, 16: 0}, energy=-16.0, num_occurrences=1)\n"
     ]
    }
   ],
   "source": [
    "bqm = dimod.BinaryQuadraticModel(linear, quadratic, offset, vartype)\n",
    "sampler = dimod.ExactSolver()\n",
    "sample_set = sampler.sample(bqm) #num_reads\n",
    "print(\"Using ExactSolver()\")\n",
    "print('lowest energy sample Using ExactSolver(): ',sample_set.first)"
   ]
  },
  {
   "cell_type": "code",
   "execution_count": 7,
   "metadata": {},
   "outputs": [],
   "source": [
    "# Converting sampleset to Dataframe\n",
    "sample_set_dataframe = sample_set.to_pandas_dataframe().sort_values('energy').reset_index(drop=True)"
   ]
  },
  {
   "cell_type": "code",
   "execution_count": 8,
   "metadata": {},
   "outputs": [],
   "source": [
    "# Getting lowest energy sample\n",
    "sample_set_dataframe = sample_set_dataframe.iloc[0]"
   ]
  },
  {
   "cell_type": "code",
   "execution_count": 9,
   "metadata": {},
   "outputs": [],
   "source": [
    "# Converting sampleset dataframe to Dictionary\n",
    "sample_set_dict = sample_set_dataframe.to_dict()"
   ]
  },
  {
   "cell_type": "code",
   "execution_count": 10,
   "metadata": {},
   "outputs": [],
   "source": [
    "# Determining the number of cars on each route after optimizing\n",
    "cars_on_route = [0,0,0,0]\n",
    "for i in range(number_of_cars):\n",
    "    key = i*4\n",
    "    for j in range(1, 5):\n",
    "        if sample_set_dict[key + j] == 1.0:\n",
    "            cars_on_route[j-1] += 1"
   ]
  },
  {
   "cell_type": "code",
   "execution_count": 11,
   "metadata": {},
   "outputs": [
    {
     "data": {
      "text/plain": [
       "[1, 1, 1, 1]"
      ]
     },
     "execution_count": 11,
     "metadata": {},
     "output_type": "execute_result"
    }
   ],
   "source": [
    "# Below variable prints the list of cars on each route. Total routes = 4\n",
    "cars_on_route"
   ]
  },
  {
   "cell_type": "code",
   "execution_count": null,
   "metadata": {},
   "outputs": [],
   "source": []
  }
 ],
 "metadata": {
  "kernelspec": {
   "display_name": "Python 3",
   "language": "python",
   "name": "python3"
  },
  "language_info": {
   "codemirror_mode": {
    "name": "ipython",
    "version": 3
   },
   "file_extension": ".py",
   "mimetype": "text/x-python",
   "name": "python",
   "nbconvert_exporter": "python",
   "pygments_lexer": "ipython3",
   "version": "3.7.4"
  }
 },
 "nbformat": 4,
 "nbformat_minor": 2
}
