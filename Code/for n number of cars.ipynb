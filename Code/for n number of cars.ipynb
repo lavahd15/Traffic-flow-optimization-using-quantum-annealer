{
 "cells": [
  {
   "cell_type": "markdown",
   "metadata": {},
   "source": [
    "Team:<br />\n",
    "&nbsp;&nbsp;&nbsp;-Aarsh Oza<br />\n",
    "&nbsp;&nbsp;&nbsp;-Dhaval Patel"
   ]
  },
  {
   "cell_type": "markdown",
   "metadata": {},
   "source": [
    "Run for more any number of cars. Just change the value of the variable 'number_of_cars'."
   ]
  },
  {
   "cell_type": "code",
   "execution_count": 1,
   "metadata": {},
   "outputs": [],
   "source": [
    "# Importing necessary Libraries\n",
    "import dimod\n",
    "from dwave.system.samplers import DWaveSampler\n",
    "from dwave_qbsolv import QBSolv"
   ]
  },
  {
   "cell_type": "code",
   "execution_count": 2,
   "metadata": {},
   "outputs": [],
   "source": [
    "# Defining Routes only for reference\n",
    "routes = [[\"s0\",\"s1\",\"s4\",\"s9\"],\n",
    "          [\"s0\",\"s3\",\"s6\",\"s9\"],\n",
    "          [\"s2\",\"s5\",\"s8\",\"s11\"],\n",
    "          [\"s2\",\"s7\",\"s10\",\"s11\"]]"
   ]
  },
  {
   "cell_type": "code",
   "execution_count": 3,
   "metadata": {},
   "outputs": [],
   "source": [
    "# Defining number of cars\n",
    "number_of_cars = 100\n",
    "k = number_of_cars"
   ]
  },
  {
   "cell_type": "code",
   "execution_count": 4,
   "metadata": {},
   "outputs": [],
   "source": [
    "# Creating Q matrix\n",
    "Q = {}\n",
    "for i in range(1, (4 * number_of_cars) + 1 ):\n",
    "    if i%4 == 1:\n",
    "        Q[(i, i)] = 0 - k\n",
    "    else:\n",
    "        Q[(i, i)] = 0 - k"
   ]
  },
  {
   "cell_type": "code",
   "execution_count": 5,
   "metadata": {},
   "outputs": [],
   "source": [
    "for i in range(1, (4 * number_of_cars) + 1 ):\n",
    "    for j in range(i, (4 * number_of_cars) + 1 ):\n",
    "        if i == j:\n",
    "            pass\n",
    "        else:\n",
    "            if (j == i+1 or j == i+2 or j == i+3) and i % 4 == 1:\n",
    "                Q[(i, j)] = 2*k\n",
    "            elif (j == i+1 or j == i+2) and i % 4 == 2:\n",
    "                Q[(i, j)] = 2*k\n",
    "            elif (j == i+1) and i % 4 == 3:\n",
    "                Q[(i, j)] = 2*k"
   ]
  },
  {
   "cell_type": "code",
   "execution_count": 6,
   "metadata": {},
   "outputs": [],
   "source": [
    "# Recieving response from QBSolv\n",
    "response = QBSolv().sample_qubo(Q)"
   ]
  },
  {
   "cell_type": "code",
   "execution_count": 7,
   "metadata": {},
   "outputs": [],
   "source": [
    "# Converting sampleset to Dataframe\n",
    "response_dataframe =  response.to_pandas_dataframe().sort_values('energy').reset_index(drop=True)"
   ]
  },
  {
   "cell_type": "code",
   "execution_count": 8,
   "metadata": {},
   "outputs": [],
   "source": [
    "# Getting lowest energy sample\n",
    "response_dataframe = response_dataframe.iloc[0]"
   ]
  },
  {
   "cell_type": "code",
   "execution_count": 9,
   "metadata": {},
   "outputs": [],
   "source": [
    "# Converting sampleset dataframe to Dictionary\n",
    "response_dict = response_dataframe.to_dict()"
   ]
  },
  {
   "cell_type": "code",
   "execution_count": 10,
   "metadata": {},
   "outputs": [],
   "source": [
    "# Determining the number of cars on each route after optimizing\n",
    "cars_on_route = [0,0,0,0]\n",
    "for i in range(number_of_cars):\n",
    "    key = i*4\n",
    "    for j in range(1, 5):\n",
    "        if response_dict[key + j] == 1.0:\n",
    "            cars_on_route[j-1] += 1"
   ]
  },
  {
   "cell_type": "code",
   "execution_count": 11,
   "metadata": {
    "scrolled": true
   },
   "outputs": [
    {
     "data": {
      "text/plain": [
       "[21, 31, 22, 26]"
      ]
     },
     "execution_count": 11,
     "metadata": {},
     "output_type": "execute_result"
    }
   ],
   "source": [
    "# Below variable prints the list of cars on each route. Total routes = 4\n",
    "cars_on_route"
   ]
  }
 ],
 "metadata": {
  "kernelspec": {
   "display_name": "Python 3",
   "language": "python",
   "name": "python3"
  },
  "language_info": {
   "codemirror_mode": {
    "name": "ipython",
    "version": 3
   },
   "file_extension": ".py",
   "mimetype": "text/x-python",
   "name": "python",
   "nbconvert_exporter": "python",
   "pygments_lexer": "ipython3",
   "version": "3.7.4"
  }
 },
 "nbformat": 4,
 "nbformat_minor": 2
}
