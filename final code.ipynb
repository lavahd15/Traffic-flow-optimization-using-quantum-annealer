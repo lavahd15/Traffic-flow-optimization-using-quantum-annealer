{
 "cells": [
  {
   "cell_type": "code",
   "execution_count": 1,
   "metadata": {},
   "outputs": [],
   "source": [
    "routes = [[\"s0\",\"s1\",\"s4\",\"s9\"],\n",
    "          [\"s0\",\"s3\",\"s6\",\"s9\"],\n",
    "          [\"s2\",\"s5\",\"s8\",\"s11\"],\n",
    "          [\"s2\",\"s7\",\"s10\",\"s11\"]]"
   ]
  },
  {
   "cell_type": "code",
   "execution_count": 19,
   "metadata": {},
   "outputs": [],
   "source": [
    "number_of_cars = 3\n",
    "k = 4"
   ]
  },
  {
   "cell_type": "code",
   "execution_count": 20,
   "metadata": {},
   "outputs": [],
   "source": [
    "linear = {}\n",
    "for i in range(1, (4 * number_of_cars) + 1 ):\n",
    "    if i%4 == 1:\n",
    "        linear[i] = 1 - k\n",
    "    else:\n",
    "        linear[i] = 0 - k"
   ]
  },
  {
   "cell_type": "code",
   "execution_count": 21,
   "metadata": {},
   "outputs": [
    {
     "name": "stdout",
     "output_type": "stream",
     "text": [
      "{1: -3, 2: -4, 3: -4, 4: -4, 5: -3, 6: -4, 7: -4, 8: -4, 9: -3, 10: -4, 11: -4, 12: -4}\n"
     ]
    }
   ],
   "source": [
    "print(linear)"
   ]
  },
  {
   "cell_type": "code",
   "execution_count": 24,
   "metadata": {},
   "outputs": [],
   "source": [
    "quadratic = {}\n",
    "for i in range(1, (4 * number_of_cars) + 1 ):\n",
    "    for j in range(i, (4 * number_of_cars) + 1 ):\n",
    "        if i == j:\n",
    "            pass\n",
    "        else:\n",
    "            if (j == i+1 or j == i+2 or j == i+3) and i % 4 == 1:\n",
    "                quadratic[(i, j)] = 2*k\n",
    "            elif (j == i+1 or j == i+2) and i % 4 == 2:\n",
    "                quadratic[(i, j)] = 2*k\n",
    "            elif (j == i+1) and i % 4 == 3:\n",
    "                quadratic[(i, j)] = 2*k\n",
    "            elif j % 4 == 1 and i % 4 == 1:\n",
    "                quadratic[(i, j)] = 2"
   ]
  },
  {
   "cell_type": "code",
   "execution_count": 25,
   "metadata": {},
   "outputs": [
    {
     "name": "stdout",
     "output_type": "stream",
     "text": [
      "{(1, 2): 8, (1, 3): 8, (1, 4): 8, (1, 5): 2, (1, 9): 2, (2, 3): 8, (2, 4): 8, (3, 4): 8, (5, 6): 8, (5, 7): 8, (5, 8): 8, (5, 9): 2, (6, 7): 8, (6, 8): 8, (7, 8): 8, (9, 10): 8, (9, 11): 8, (9, 12): 8, (10, 11): 8, (10, 12): 8, (11, 12): 8}\n"
     ]
    }
   ],
   "source": [
    "print(quadratic)"
   ]
  },
  {
   "cell_type": "code",
   "execution_count": null,
   "metadata": {},
   "outputs": [],
   "source": []
  }
 ],
 "metadata": {
  "kernelspec": {
   "display_name": "Python 3",
   "language": "python",
   "name": "python3"
  },
  "language_info": {
   "codemirror_mode": {
    "name": "ipython",
    "version": 3
   },
   "file_extension": ".py",
   "mimetype": "text/x-python",
   "name": "python",
   "nbconvert_exporter": "python",
   "pygments_lexer": "ipython3",
   "version": "3.7.4"
  }
 },
 "nbformat": 4,
 "nbformat_minor": 2
}
